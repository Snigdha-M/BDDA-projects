{
 "cells": [
  {
   "cell_type": "markdown",
   "metadata": {},
   "source": [
    "# BDDA PROJECT 2"
   ]
  },
  {
   "cell_type": "markdown",
   "metadata": {},
   "source": [
    "# Snigdha Mathur (015050)"
   ]
  },
  {
   "cell_type": "markdown",
   "metadata": {},
   "source": [
    "## Question 2: Given personal details of the person, predict the medical cost and use any regression algorithm for calculating the RMSE value"
   ]
  },
  {
   "cell_type": "markdown",
   "metadata": {},
   "source": [
    "### We have used Logistic Rgression for calculating the RMSE (Root Mean Square Error) value and R square value"
   ]
  },
  {
   "cell_type": "markdown",
   "metadata": {},
   "source": [
    "Starting a new SparkSession "
   ]
  },
  {
   "cell_type": "code",
   "execution_count": 1,
   "metadata": {},
   "outputs": [],
   "source": [
    "from pyspark.sql import SparkSession"
   ]
  },
  {
   "cell_type": "code",
   "execution_count": 2,
   "metadata": {},
   "outputs": [],
   "source": [
    "spark=SparkSession.builder.appName('Proj1').getOrCreate()"
   ]
  },
  {
   "cell_type": "markdown",
   "metadata": {},
   "source": [
    "Reading the csv dataset"
   ]
  },
  {
   "cell_type": "code",
   "execution_count": 3,
   "metadata": {},
   "outputs": [],
   "source": [
    "df=spark.read.csv('insurance.csv',header=True,inferSchema=True) "
   ]
  },
  {
   "cell_type": "markdown",
   "metadata": {},
   "source": [
    "Displaying the values of the dataset"
   ]
  },
  {
   "cell_type": "code",
   "execution_count": 4,
   "metadata": {},
   "outputs": [
    {
     "name": "stdout",
     "output_type": "stream",
     "text": [
      "+---+------+------+--------+------+---------+-----------+\n",
      "|age|   sex|   bmi|children|smoker|   region|    charges|\n",
      "+---+------+------+--------+------+---------+-----------+\n",
      "| 19|female|  27.9|       0|   yes|southwest|  16884.924|\n",
      "| 18|  male| 33.77|       1|    no|southeast|  1725.5523|\n",
      "| 28|  male|  33.0|       3|    no|southeast|   4449.462|\n",
      "| 33|  male|22.705|       0|    no|northwest|21984.47061|\n",
      "| 32|  male| 28.88|       0|    no|northwest|  3866.8552|\n",
      "| 31|female| 25.74|       0|    no|southeast|  3756.6216|\n",
      "| 46|female| 33.44|       1|    no|southeast|  8240.5896|\n",
      "| 37|female| 27.74|       3|    no|northwest|  7281.5056|\n",
      "| 37|  male| 29.83|       2|    no|northeast|  6406.4107|\n",
      "| 60|female| 25.84|       0|    no|northwest|28923.13692|\n",
      "| 25|  male| 26.22|       0|    no|northeast|  2721.3208|\n",
      "| 62|female| 26.29|       0|   yes|southeast| 27808.7251|\n",
      "| 23|  male|  34.4|       0|    no|southwest|   1826.843|\n",
      "| 56|female| 39.82|       0|    no|southeast| 11090.7178|\n",
      "| 27|  male| 42.13|       0|   yes|southeast| 39611.7577|\n",
      "| 19|  male|  24.6|       1|    no|southwest|   1837.237|\n",
      "| 52|female| 30.78|       1|    no|northeast| 10797.3362|\n",
      "| 23|  male|23.845|       0|    no|northeast| 2395.17155|\n",
      "| 56|  male|  40.3|       0|    no|southwest|  10602.385|\n",
      "| 30|  male|  35.3|       0|   yes|southwest|  36837.467|\n",
      "+---+------+------+--------+------+---------+-----------+\n",
      "only showing top 20 rows\n",
      "\n"
     ]
    }
   ],
   "source": [
    "df.show()"
   ]
  },
  {
   "cell_type": "code",
   "execution_count": 5,
   "metadata": {},
   "outputs": [
    {
     "data": {
      "text/plain": [
       "1338"
      ]
     },
     "execution_count": 5,
     "metadata": {},
     "output_type": "execute_result"
    }
   ],
   "source": [
    "df.count()"
   ]
  },
  {
   "cell_type": "code",
   "execution_count": 7,
   "metadata": {
    "scrolled": true
   },
   "outputs": [
    {
     "name": "stdout",
     "output_type": "stream",
     "text": [
      "root\n",
      " |-- age: integer (nullable = true)\n",
      " |-- sex: string (nullable = true)\n",
      " |-- bmi: double (nullable = true)\n",
      " |-- children: integer (nullable = true)\n",
      " |-- smoker: string (nullable = true)\n",
      " |-- region: string (nullable = true)\n",
      " |-- charges: double (nullable = true)\n",
      "\n"
     ]
    }
   ],
   "source": [
    "df.printSchema() "
   ]
  },
  {
   "cell_type": "markdown",
   "metadata": {},
   "source": [
    "Understanding the variable 'bmi' "
   ]
  },
  {
   "cell_type": "code",
   "execution_count": 8,
   "metadata": {},
   "outputs": [
    {
     "data": {
      "text/plain": [
       "Column<b'bmi'>"
      ]
     },
     "execution_count": 8,
     "metadata": {},
     "output_type": "execute_result"
    }
   ],
   "source": [
    "df['bmi'] \n"
   ]
  },
  {
   "cell_type": "code",
   "execution_count": 9,
   "metadata": {},
   "outputs": [
    {
     "data": {
      "text/plain": [
       "pyspark.sql.column.Column"
      ]
     },
     "execution_count": 9,
     "metadata": {},
     "output_type": "execute_result"
    }
   ],
   "source": [
    "type(df['bmi']) ##rdd helps in converting data in form of rows and coulmns"
   ]
  },
  {
   "cell_type": "code",
   "execution_count": 10,
   "metadata": {},
   "outputs": [
    {
     "name": "stdout",
     "output_type": "stream",
     "text": [
      "+------+\n",
      "|   bmi|\n",
      "+------+\n",
      "|  27.9|\n",
      "| 33.77|\n",
      "|  33.0|\n",
      "|22.705|\n",
      "| 28.88|\n",
      "| 25.74|\n",
      "| 33.44|\n",
      "| 27.74|\n",
      "| 29.83|\n",
      "| 25.84|\n",
      "| 26.22|\n",
      "| 26.29|\n",
      "|  34.4|\n",
      "| 39.82|\n",
      "| 42.13|\n",
      "|  24.6|\n",
      "| 30.78|\n",
      "|23.845|\n",
      "|  40.3|\n",
      "|  35.3|\n",
      "+------+\n",
      "only showing top 20 rows\n",
      "\n"
     ]
    }
   ],
   "source": [
    "df.select('bmi').show()"
   ]
  },
  {
   "cell_type": "code",
   "execution_count": 12,
   "metadata": {},
   "outputs": [
    {
     "name": "stdout",
     "output_type": "stream",
     "text": [
      "+------+------+-----------+\n",
      "|   sex|   bmi|    charges|\n",
      "+------+------+-----------+\n",
      "|female|  27.9|  16884.924|\n",
      "|  male| 33.77|  1725.5523|\n",
      "|  male|  33.0|   4449.462|\n",
      "|  male|22.705|21984.47061|\n",
      "|  male| 28.88|  3866.8552|\n",
      "|female| 25.74|  3756.6216|\n",
      "|female| 33.44|  8240.5896|\n",
      "|female| 27.74|  7281.5056|\n",
      "|  male| 29.83|  6406.4107|\n",
      "|female| 25.84|28923.13692|\n",
      "|  male| 26.22|  2721.3208|\n",
      "|female| 26.29| 27808.7251|\n",
      "|  male|  34.4|   1826.843|\n",
      "|female| 39.82| 11090.7178|\n",
      "|  male| 42.13| 39611.7577|\n",
      "|  male|  24.6|   1837.237|\n",
      "|female| 30.78| 10797.3362|\n",
      "|  male|23.845| 2395.17155|\n",
      "|  male|  40.3|  10602.385|\n",
      "|  male|  35.3|  36837.467|\n",
      "+------+------+-----------+\n",
      "only showing top 20 rows\n",
      "\n"
     ]
    }
   ],
   "source": [
    "df.select(['sex','bmi','charges']).show()"
   ]
  },
  {
   "cell_type": "markdown",
   "metadata": {},
   "source": [
    "Checking for bmi values lesser than 18.5 is considered as under-weight"
   ]
  },
  {
   "cell_type": "code",
   "execution_count": 13,
   "metadata": {},
   "outputs": [
    {
     "name": "stdout",
     "output_type": "stream",
     "text": [
      "+---+------+------+--------+------+---------+-----------+\n",
      "|age|   sex|   bmi|children|smoker|   region|    charges|\n",
      "+---+------+------+--------+------+---------+-----------+\n",
      "| 23|  male|17.385|       1|    no|northwest| 2775.19215|\n",
      "| 32|female|17.765|       2|   yes|northwest| 32734.1863|\n",
      "| 18|  male| 15.96|       0|    no|northeast|  1694.7964|\n",
      "| 51|female| 18.05|       0|    no|northwest|  9644.2525|\n",
      "| 19|female|  17.8|       0|    no|southwest|   1727.785|\n",
      "| 18|  male| 17.29|       2|   yes|northeast| 12829.4551|\n",
      "| 27|female|17.955|       2|   yes|northeast|15006.57945|\n",
      "| 19|  male| 17.48|       0|    no|northwest|  1621.3402|\n",
      "| 26|female|17.195|       2|   yes|northeast|14455.64405|\n",
      "| 21|female|16.815|       1|    no|northeast| 3167.45585|\n",
      "| 21|female|  17.4|       1|    no|southwest|   2585.269|\n",
      "| 26|  male| 17.67|       0|    no|northwest|  2680.9493|\n",
      "| 57|  male|18.335|       0|    no|northeast|11534.87265|\n",
      "| 37|female| 17.29|       2|    no|northeast|  6877.9801|\n",
      "| 60|female|18.335|       0|    no|northeast|13204.28565|\n",
      "| 39|female|  18.3|       5|   yes|southwest|   19023.26|\n",
      "| 52|female|18.335|       0|    no|northwest| 9991.03765|\n",
      "| 35|  male| 17.86|       1|    no|northwest|  5116.5004|\n",
      "| 38|  male|16.815|       2|    no|northeast| 6640.54485|\n",
      "| 28|female| 17.29|       0|    no|northeast|  3732.6251|\n",
      "+---+------+------+--------+------+---------+-----------+\n",
      "\n"
     ]
    }
   ],
   "source": [
    " os =df.filter(\"bmi<18.5\").show(30) "
   ]
  },
  {
   "cell_type": "markdown",
   "metadata": {},
   "source": [
    "We find that 20 people are overweight"
   ]
  },
  {
   "cell_type": "markdown",
   "metadata": {},
   "source": [
    "Finding out the region of underweight males"
   ]
  },
  {
   "cell_type": "code",
   "execution_count": 14,
   "metadata": {},
   "outputs": [
    {
     "name": "stdout",
     "output_type": "stream",
     "text": [
      "+---+----+------+--------+------+---------+-----------+\n",
      "|age| sex|   bmi|children|smoker|   region|    charges|\n",
      "+---+----+------+--------+------+---------+-----------+\n",
      "| 23|male|17.385|       1|    no|northwest| 2775.19215|\n",
      "| 18|male| 15.96|       0|    no|northeast|  1694.7964|\n",
      "| 18|male| 17.29|       2|   yes|northeast| 12829.4551|\n",
      "| 19|male| 17.48|       0|    no|northwest|  1621.3402|\n",
      "| 26|male| 17.67|       0|    no|northwest|  2680.9493|\n",
      "| 57|male|18.335|       0|    no|northeast|11534.87265|\n",
      "| 35|male| 17.86|       1|    no|northwest|  5116.5004|\n",
      "| 38|male|16.815|       2|    no|northeast| 6640.54485|\n",
      "+---+----+------+--------+------+---------+-----------+\n",
      "\n"
     ]
    }
   ],
   "source": [
    "df.filter((df['bmi']<18.5)&(df['sex']>'female')).show() "
   ]
  },
  {
   "cell_type": "markdown",
   "metadata": {},
   "source": [
    "males who are underweight are from  north region"
   ]
  },
  {
   "cell_type": "markdown",
   "metadata": {},
   "source": [
    "Checking the number of people who are younger than 30 years and are underweight"
   ]
  },
  {
   "cell_type": "code",
   "execution_count": 15,
   "metadata": {},
   "outputs": [
    {
     "name": "stdout",
     "output_type": "stream",
     "text": [
      "+---+------+------+--------+------+---------+-----------+\n",
      "|age|   sex|   bmi|children|smoker|   region|    charges|\n",
      "+---+------+------+--------+------+---------+-----------+\n",
      "| 32|female|17.765|       2|   yes|northwest| 32734.1863|\n",
      "| 51|female| 18.05|       0|    no|northwest|  9644.2525|\n",
      "| 57|  male|18.335|       0|    no|northeast|11534.87265|\n",
      "| 37|female| 17.29|       2|    no|northeast|  6877.9801|\n",
      "| 60|female|18.335|       0|    no|northeast|13204.28565|\n",
      "| 39|female|  18.3|       5|   yes|southwest|   19023.26|\n",
      "| 52|female|18.335|       0|    no|northwest| 9991.03765|\n",
      "| 35|  male| 17.86|       1|    no|northwest|  5116.5004|\n",
      "| 38|  male|16.815|       2|    no|northeast| 6640.54485|\n",
      "+---+------+------+--------+------+---------+-----------+\n",
      "\n"
     ]
    }
   ],
   "source": [
    "df.filter((df['bmi']<18.5)&(df['age']>30)).show() "
   ]
  },
  {
   "cell_type": "markdown",
   "metadata": {},
   "source": [
    "Number of people who are underweight and are smokers"
   ]
  },
  {
   "cell_type": "code",
   "execution_count": 16,
   "metadata": {},
   "outputs": [
    {
     "name": "stdout",
     "output_type": "stream",
     "text": [
      "+------+\n",
      "|smoker|\n",
      "+------+\n",
      "|    no|\n",
      "|   yes|\n",
      "|    no|\n",
      "|    no|\n",
      "|    no|\n",
      "|   yes|\n",
      "|   yes|\n",
      "|    no|\n",
      "|   yes|\n",
      "|    no|\n",
      "|    no|\n",
      "|    no|\n",
      "|    no|\n",
      "|    no|\n",
      "|    no|\n",
      "|   yes|\n",
      "|    no|\n",
      "|    no|\n",
      "|    no|\n",
      "|    no|\n",
      "+------+\n",
      "\n"
     ]
    }
   ],
   "source": [
    "df.filter(\"bmi<18.5\").select(['smoker']).show() "
   ]
  },
  {
   "cell_type": "markdown",
   "metadata": {},
   "source": [
    "Checking for over-weight among the dataset"
   ]
  },
  {
   "cell_type": "code",
   "execution_count": 17,
   "metadata": {},
   "outputs": [
    {
     "name": "stdout",
     "output_type": "stream",
     "text": [
      "+---+------+------+--------+------+---------+-----------+\n",
      "|age|   sex|   bmi|children|smoker|   region|    charges|\n",
      "+---+------+------+--------+------+---------+-----------+\n",
      "| 18|  male| 33.77|       1|    no|southeast|  1725.5523|\n",
      "| 28|  male|  33.0|       3|    no|southeast|   4449.462|\n",
      "| 46|female| 33.44|       1|    no|southeast|  8240.5896|\n",
      "| 37|  male| 29.83|       2|    no|northeast|  6406.4107|\n",
      "| 23|  male|  34.4|       0|    no|southwest|   1826.843|\n",
      "| 56|female| 39.82|       0|    no|southeast| 11090.7178|\n",
      "| 27|  male| 42.13|       0|   yes|southeast| 39611.7577|\n",
      "| 52|female| 30.78|       1|    no|northeast| 10797.3362|\n",
      "| 56|  male|  40.3|       0|    no|southwest|  10602.385|\n",
      "| 30|  male|  35.3|       0|   yes|southwest|  36837.467|\n",
      "| 60|female|36.005|       0|    no|northeast|13228.84695|\n",
      "| 30|female|  32.4|       1|    no|southwest|   4149.736|\n",
      "| 18|  male|  34.1|       0|    no|southeast|   1137.011|\n",
      "| 34|female| 31.92|       1|   yes|northeast| 37701.8768|\n",
      "| 55|female|32.775|       2|    no|northwest|12268.63225|\n",
      "| 31|  male|  36.3|       2|   yes|southwest|    38711.0|\n",
      "| 22|  male|  35.6|       0|   yes|southwest|  35585.576|\n",
      "| 28|  male|  36.4|       1|   yes|southwest|51194.55914|\n",
      "| 62|female|32.965|       3|    no|northwest|15612.19335|\n",
      "| 35|  male| 36.67|       1|   yes|northeast| 39774.2763|\n",
      "| 60|  male|  39.9|       0|   yes|southwest|  48173.361|\n",
      "| 31|female| 36.63|       2|    no|southeast|  4949.7587|\n",
      "| 37|female|  30.8|       2|    no|southeast|   6313.759|\n",
      "| 38|  male| 37.05|       1|    no|northeast|  6079.6715|\n",
      "| 55|  male|  37.3|       0|    no|southwest|20630.28351|\n",
      "| 18|female|38.665|       2|    no|northeast| 3393.35635|\n",
      "| 28|female| 34.77|       0|    no|northwest|  3556.9223|\n",
      "| 36|  male|  35.2|       1|   yes|southeast|  38709.176|\n",
      "| 18|female|35.625|       0|    no|northeast| 2211.13075|\n",
      "| 21|female| 33.63|       2|    no|northwest|  3579.8287|\n",
      "+---+------+------+--------+------+---------+-----------+\n",
      "only showing top 30 rows\n",
      "\n"
     ]
    }
   ],
   "source": [
    "df.filter(\"bmi>29\").show(30)   "
   ]
  },
  {
   "cell_type": "markdown",
   "metadata": {},
   "source": [
    "Number of over-weight people"
   ]
  },
  {
   "cell_type": "code",
   "execution_count": 18,
   "metadata": {},
   "outputs": [],
   "source": [
    "x =df.filter(df['bmi']>29).collect()"
   ]
  },
  {
   "cell_type": "code",
   "execution_count": 19,
   "metadata": {},
   "outputs": [
    {
     "data": {
      "text/plain": [
       "778"
      ]
     },
     "execution_count": 19,
     "metadata": {},
     "output_type": "execute_result"
    }
   ],
   "source": [
    "len(x)"
   ]
  },
  {
   "cell_type": "markdown",
   "metadata": {},
   "source": [
    "Checking for number of over-weight with age less than 25"
   ]
  },
  {
   "cell_type": "code",
   "execution_count": 20,
   "metadata": {},
   "outputs": [],
   "source": [
    "y =df.filter((df['bmi']>29)&(df['age']<25)).collect()"
   ]
  },
  {
   "cell_type": "code",
   "execution_count": 21,
   "metadata": {},
   "outputs": [
    {
     "data": {
      "text/plain": [
       "151"
      ]
     },
     "execution_count": 21,
     "metadata": {},
     "output_type": "execute_result"
    }
   ],
   "source": [
    "len(y)"
   ]
  },
  {
   "cell_type": "markdown",
   "metadata": {},
   "source": [
    "Number of families without any children "
   ]
  },
  {
   "cell_type": "code",
   "execution_count": 22,
   "metadata": {},
   "outputs": [],
   "source": [
    "c =df.filter((df['children']==0)).collect()"
   ]
  },
  {
   "cell_type": "code",
   "execution_count": 23,
   "metadata": {},
   "outputs": [
    {
     "data": {
      "text/plain": [
       "574"
      ]
     },
     "execution_count": 23,
     "metadata": {},
     "output_type": "execute_result"
    }
   ],
   "source": [
    "len(c)"
   ]
  },
  {
   "cell_type": "markdown",
   "metadata": {},
   "source": [
    "Number of families without any children "
   ]
  },
  {
   "cell_type": "code",
   "execution_count": 24,
   "metadata": {},
   "outputs": [],
   "source": [
    "c1 = df.filter((df['children']==1)).collect()"
   ]
  },
  {
   "cell_type": "code",
   "execution_count": 25,
   "metadata": {},
   "outputs": [
    {
     "data": {
      "text/plain": [
       "324"
      ]
     },
     "execution_count": 25,
     "metadata": {},
     "output_type": "execute_result"
    }
   ],
   "source": [
    "len(c1)"
   ]
  },
  {
   "cell_type": "markdown",
   "metadata": {},
   "source": [
    "Number of families with more than 1 children "
   ]
  },
  {
   "cell_type": "code",
   "execution_count": 26,
   "metadata": {},
   "outputs": [
    {
     "data": {
      "text/plain": [
       "440"
      ]
     },
     "execution_count": 26,
     "metadata": {},
     "output_type": "execute_result"
    }
   ],
   "source": [
    "c2 = df.filter((df['children']>1)).collect()\n",
    "len(c2)"
   ]
  },
  {
   "cell_type": "markdown",
   "metadata": {},
   "source": [
    "Number of people who are overweight and have 0 children"
   ]
  },
  {
   "cell_type": "code",
   "execution_count": 31,
   "metadata": {},
   "outputs": [],
   "source": [
    "a =df.filter((df['bmi']>29)& ~(df['children']==0)).collect()"
   ]
  },
  {
   "cell_type": "code",
   "execution_count": 32,
   "metadata": {},
   "outputs": [
    {
     "data": {
      "text/plain": [
       "449"
      ]
     },
     "execution_count": 32,
     "metadata": {},
     "output_type": "execute_result"
    }
   ],
   "source": [
    "len(a)"
   ]
  },
  {
   "cell_type": "markdown",
   "metadata": {},
   "source": [
    "Grouping the variable region and displaying the count per region"
   ]
  },
  {
   "cell_type": "code",
   "execution_count": 35,
   "metadata": {},
   "outputs": [
    {
     "name": "stdout",
     "output_type": "stream",
     "text": [
      "+---------+-----+\n",
      "|   region|count|\n",
      "+---------+-----+\n",
      "|northwest|  325|\n",
      "|southeast|  364|\n",
      "|northeast|  324|\n",
      "|southwest|  325|\n",
      "+---------+-----+\n",
      "\n"
     ]
    }
   ],
   "source": [
    "df.groupBy(\"region\").count().show() "
   ]
  },
  {
   "cell_type": "markdown",
   "metadata": {},
   "source": [
    "Average/max/min of (age,bmi,children,charges) distributed in regions"
   ]
  },
  {
   "cell_type": "code",
   "execution_count": 36,
   "metadata": {},
   "outputs": [
    {
     "name": "stdout",
     "output_type": "stream",
     "text": [
      "+---------+-----------------+------------------+------------------+------------------+\n",
      "|   region|         avg(age)|          avg(bmi)|     avg(children)|      avg(charges)|\n",
      "+---------+-----------------+------------------+------------------+------------------+\n",
      "|northwest|39.19692307692308|29.199784615384626|1.1476923076923078|12417.575373969228|\n",
      "|southeast|38.93956043956044| 33.35598901098903|1.0494505494505495|14735.411437609895|\n",
      "|northeast|39.26851851851852| 29.17350308641976|1.0462962962962963|  13406.3845163858|\n",
      "|southwest|39.45538461538462| 30.59661538461538|1.1415384615384616| 12346.93737729231|\n",
      "+---------+-----------------+------------------+------------------+------------------+\n",
      "\n",
      "+---------+--------+--------+-------------+------------+\n",
      "|   region|max(age)|max(bmi)|max(children)|max(charges)|\n",
      "+---------+--------+--------+-------------+------------+\n",
      "|northwest|      64|   42.94|            5| 60021.39897|\n",
      "|southeast|      64|   53.13|            5| 63770.42801|\n",
      "|northeast|      64|   48.07|            5| 58571.07448|\n",
      "|southwest|      64|    47.6|            5| 52590.82939|\n",
      "+---------+--------+--------+-------------+------------+\n",
      "\n",
      "+---------+--------+--------+-------------+------------+\n",
      "|   region|min(age)|min(bmi)|min(children)|min(charges)|\n",
      "+---------+--------+--------+-------------+------------+\n",
      "|northwest|      19|  17.385|            0|   1621.3402|\n",
      "|southeast|      18|    19.8|            0|   1121.8739|\n",
      "|northeast|      18|   15.96|            0|   1694.7964|\n",
      "|southwest|      19|    17.4|            0|    1241.565|\n",
      "+---------+--------+--------+-------------+------------+\n",
      "\n"
     ]
    }
   ],
   "source": [
    "df.groupBy(\"region\").mean().show()\n",
    "df.groupBy(\"region\").max().show()\n",
    "df.groupBy(\"region\").min().show()\n",
    " "
   ]
  },
  {
   "cell_type": "markdown",
   "metadata": {},
   "source": [
    "Displaying minimum and maximum BMI in the dataset"
   ]
  },
  {
   "cell_type": "code",
   "execution_count": 39,
   "metadata": {},
   "outputs": [
    {
     "name": "stdout",
     "output_type": "stream",
     "text": [
      "+--------+\n",
      "|min(bmi)|\n",
      "+--------+\n",
      "|   15.96|\n",
      "+--------+\n",
      "\n"
     ]
    }
   ],
   "source": [
    "df.agg({\"bmi\":\"min\"}).show()"
   ]
  },
  {
   "cell_type": "code",
   "execution_count": 27,
   "metadata": {},
   "outputs": [
    {
     "name": "stdout",
     "output_type": "stream",
     "text": [
      "+--------+\n",
      "|max(bmi)|\n",
      "+--------+\n",
      "|   53.13|\n",
      "+--------+\n",
      "\n"
     ]
    }
   ],
   "source": [
    "df.agg({\"bmi\":\"max\"}).show()"
   ]
  },
  {
   "cell_type": "markdown",
   "metadata": {},
   "source": [
    "Displaying minimum and maximum value of charges in the dataset"
   ]
  },
  {
   "cell_type": "code",
   "execution_count": 41,
   "metadata": {},
   "outputs": [
    {
     "name": "stdout",
     "output_type": "stream",
     "text": [
      "+------------+\n",
      "|min(charges)|\n",
      "+------------+\n",
      "|   1121.8739|\n",
      "+------------+\n",
      "\n"
     ]
    }
   ],
   "source": [
    "df.agg({\"charges\":\"min\"}).show()"
   ]
  },
  {
   "cell_type": "code",
   "execution_count": 42,
   "metadata": {},
   "outputs": [
    {
     "name": "stdout",
     "output_type": "stream",
     "text": [
      "+------------+\n",
      "|max(charges)|\n",
      "+------------+\n",
      "| 63770.42801|\n",
      "+------------+\n",
      "\n"
     ]
    }
   ],
   "source": [
    "df.agg({\"charges\":\"max\"}).show()"
   ]
  },
  {
   "cell_type": "markdown",
   "metadata": {},
   "source": [
    "Using orderBy to display the values in asecending or desending order"
   ]
  },
  {
   "cell_type": "code",
   "execution_count": 44,
   "metadata": {},
   "outputs": [],
   "source": [
    "from pyspark.sql.functions import countDistinct, avg, stddev,max,min\n",
    "from pyspark.sql.functions import format_number"
   ]
  },
  {
   "cell_type": "code",
   "execution_count": 53,
   "metadata": {},
   "outputs": [
    {
     "name": "stdout",
     "output_type": "stream",
     "text": [
      "+---+------+------+--------+------+---------+-----------+\n",
      "|age|   sex|   bmi|children|smoker|   region|    charges|\n",
      "+---+------+------+--------+------+---------+-----------+\n",
      "| 54|female| 47.41|       0|   yes|southeast|63770.42801|\n",
      "| 45|  male| 30.36|       0|   yes|southeast|62592.87309|\n",
      "| 52|  male|34.485|       3|   yes|northwest|60021.39897|\n",
      "| 31|female|38.095|       1|   yes|northeast|58571.07448|\n",
      "| 33|female| 35.53|       0|   yes|northwest|55135.40209|\n",
      "| 60|  male|  32.8|       0|   yes|southwest|52590.82939|\n",
      "| 28|  male|  36.4|       1|   yes|southwest|51194.55914|\n",
      "| 64|  male| 36.96|       2|   yes|southeast| 49577.6624|\n",
      "| 59|  male| 41.14|       1|   yes|southeast| 48970.2476|\n",
      "| 44|female| 38.06|       0|   yes|southeast|48885.13561|\n",
      "| 63|female|  37.7|       0|   yes|southwest|   48824.45|\n",
      "| 57|  male| 42.13|       1|   yes|southeast| 48675.5177|\n",
      "| 60|  male| 40.92|       0|   yes|southeast| 48673.5588|\n",
      "| 54|  male|40.565|       3|   yes|northeast|48549.17835|\n",
      "| 61|female|36.385|       1|   yes|northeast|48517.56315|\n",
      "| 60|  male|  39.9|       0|   yes|southwest|  48173.361|\n",
      "| 64|female|  33.8|       1|   yes|southwest|   47928.03|\n",
      "| 59|female|36.765|       1|   yes|northeast|47896.79135|\n",
      "| 58|  male|36.955|       2|   yes|northwest|47496.49445|\n",
      "| 51|  male|  42.9|       2|   yes|southeast|  47462.894|\n",
      "| 61|  male|  36.3|       1|   yes|southwest|   47403.88|\n",
      "| 63|female|  32.2|       2|   yes|southwest|  47305.305|\n",
      "| 64|female|  31.3|       2|   yes|southwest|  47291.055|\n",
      "| 52|  male|  41.8|       2|   yes|southeast|  47269.854|\n",
      "| 63|  male| 35.09|       0|   yes|southeast| 47055.5321|\n",
      "| 64|  male| 33.88|       0|   yes|southeast| 46889.2612|\n",
      "| 62|  male|30.875|       3|   yes|northwest|46718.16325|\n",
      "| 53|female| 36.86|       3|   yes|northwest| 46661.4424|\n",
      "| 61|  male| 35.86|       0|   yes|southeast| 46599.1084|\n",
      "| 51|female| 37.05|       3|   yes|northeast| 46255.1125|\n",
      "+---+------+------+--------+------+---------+-----------+\n",
      "only showing top 30 rows\n",
      "\n"
     ]
    }
   ],
   "source": [
    "df.orderBy(df[\"charges\"].desc()).show(30)"
   ]
  },
  {
   "cell_type": "code",
   "execution_count": 54,
   "metadata": {},
   "outputs": [
    {
     "name": "stdout",
     "output_type": "stream",
     "text": [
      "+---+------+------+--------+------+---------+-----------+\n",
      "|age|   sex|   bmi|children|smoker|   region|    charges|\n",
      "+---+------+------+--------+------+---------+-----------+\n",
      "| 31|  male|  28.5|       5|    no|northeast|   6799.458|\n",
      "| 49|female|  31.9|       5|    no|southwest|  11552.904|\n",
      "| 43|  male| 25.52|       5|    no|southeast|14478.33015|\n",
      "| 19|female|  28.6|       5|    no|southwest|   4687.797|\n",
      "| 20|female|  37.0|       5|    no|southwest|    4830.63|\n",
      "| 41|  male| 29.64|       5|    no|northeast|  9222.4026|\n",
      "| 39|female| 23.87|       5|    no|southeast|  8582.3023|\n",
      "| 28|  male|  24.3|       5|    no|southwest|   5615.369|\n",
      "| 33|  male|  42.4|       5|    no|southwest|   6666.243|\n",
      "| 33|  male| 33.44|       5|    no|southeast|  6653.7886|\n",
      "| 25|  male|  23.9|       5|    no|southwest|   5080.096|\n",
      "| 46|  male|  25.8|       5|    no|southwest|   10096.97|\n",
      "| 39|female|24.225|       5|    no|northwest| 8965.79575|\n",
      "| 45|  male| 24.31|       5|    no|southeast|  9788.8659|\n",
      "| 39|female| 34.32|       5|    no|southeast|  8596.8278|\n",
      "| 20|  male|30.115|       5|    no|northeast| 4915.05985|\n",
      "| 52|female| 46.75|       5|    no|southeast| 12592.5345|\n",
      "| 39|female|  18.3|       5|   yes|southwest|   19023.26|\n",
      "| 26|female| 29.64|       4|    no|northeast|24671.66334|\n",
      "| 24|  male| 33.63|       4|    no|northeast|17128.42608|\n",
      "| 25|  male|26.695|       4|    no|northwest| 4877.98105|\n",
      "| 40|female|  29.3|       4|    no|southwest|15828.82173|\n",
      "| 40|  male|30.875|       4|    no|northwest| 8162.71625|\n",
      "| 61|female| 33.33|       4|    no|southeast|36580.28216|\n",
      "| 49|female| 41.47|       4|    no|southeast| 10977.2063|\n",
      "| 36|female| 29.04|       4|    no|southeast|  7243.8136|\n",
      "| 37|  male|  34.1|       4|   yes|southwest|  40182.246|\n",
      "| 29|female|  25.6|       4|    no|southwest|   5708.867|\n",
      "| 25|  male| 33.66|       4|    no|southeast|  4504.6624|\n",
      "| 21|  male|  25.7|       4|   yes|southwest|  17942.106|\n",
      "+---+------+------+--------+------+---------+-----------+\n",
      "only showing top 30 rows\n",
      "\n"
     ]
    }
   ],
   "source": [
    "df.orderBy(df[\"children\"].desc()).show(30)"
   ]
  },
  {
   "cell_type": "markdown",
   "metadata": {},
   "source": [
    "Machine Learning Model"
   ]
  },
  {
   "cell_type": "code",
   "execution_count": 59,
   "metadata": {},
   "outputs": [
    {
     "data": {
      "text/plain": [
       "0"
      ]
     },
     "execution_count": 59,
     "metadata": {},
     "output_type": "execute_result"
    }
   ],
   "source": [
    "df.select(\"*\").where(df.charges.isNull()).count()"
   ]
  },
  {
   "cell_type": "code",
   "execution_count": 60,
   "metadata": {},
   "outputs": [],
   "source": [
    "from pyspark.sql.functions import isnan, when, count, col\n",
    "def get_null_value_count(data):\n",
    "    data.select([count(when(isnan(c) | col(c).isNull(),c)).alias(c) for c in data.columns]).show()"
   ]
  },
  {
   "cell_type": "code",
   "execution_count": 61,
   "metadata": {},
   "outputs": [
    {
     "name": "stdout",
     "output_type": "stream",
     "text": [
      "+---+---+---+--------+------+------+-------+\n",
      "|age|sex|bmi|children|smoker|region|charges|\n",
      "+---+---+---+--------+------+------+-------+\n",
      "|  0|  0|  0|       0|     0|     0|      0|\n",
      "+---+---+---+--------+------+------+-------+\n",
      "\n"
     ]
    }
   ],
   "source": [
    "get_null_value_count(df)"
   ]
  },
  {
   "cell_type": "code",
   "execution_count": 62,
   "metadata": {},
   "outputs": [
    {
     "name": "stdout",
     "output_type": "stream",
     "text": [
      "+---+------+------+--------+------+---------+-----------+\n",
      "|age|   sex|   bmi|children|smoker|   region|    charges|\n",
      "+---+------+------+--------+------+---------+-----------+\n",
      "| 19|female|  27.9|       0|   yes|southwest|  16884.924|\n",
      "| 18|  male| 33.77|       1|    no|southeast|  1725.5523|\n",
      "| 28|  male|  33.0|       3|    no|southeast|   4449.462|\n",
      "| 33|  male|22.705|       0|    no|northwest|21984.47061|\n",
      "| 32|  male| 28.88|       0|    no|northwest|  3866.8552|\n",
      "| 31|female| 25.74|       0|    no|southeast|  3756.6216|\n",
      "| 46|female| 33.44|       1|    no|southeast|  8240.5896|\n",
      "| 37|female| 27.74|       3|    no|northwest|  7281.5056|\n",
      "| 37|  male| 29.83|       2|    no|northeast|  6406.4107|\n",
      "| 60|female| 25.84|       0|    no|northwest|28923.13692|\n",
      "| 25|  male| 26.22|       0|    no|northeast|  2721.3208|\n",
      "| 62|female| 26.29|       0|   yes|southeast| 27808.7251|\n",
      "| 23|  male|  34.4|       0|    no|southwest|   1826.843|\n",
      "| 56|female| 39.82|       0|    no|southeast| 11090.7178|\n",
      "| 27|  male| 42.13|       0|   yes|southeast| 39611.7577|\n",
      "| 19|  male|  24.6|       1|    no|southwest|   1837.237|\n",
      "| 52|female| 30.78|       1|    no|northeast| 10797.3362|\n",
      "| 23|  male|23.845|       0|    no|northeast| 2395.17155|\n",
      "| 56|  male|  40.3|       0|    no|southwest|  10602.385|\n",
      "| 30|  male|  35.3|       0|   yes|southwest|  36837.467|\n",
      "+---+------+------+--------+------+---------+-----------+\n",
      "only showing top 20 rows\n",
      "\n"
     ]
    }
   ],
   "source": [
    "df.show()"
   ]
  },
  {
   "cell_type": "code",
   "execution_count": 78,
   "metadata": {},
   "outputs": [],
   "source": [
    "from pyspark.ml.feature import StringIndexer, OneHotEncoder\n",
    "from pyspark.ml.feature import VectorAssembler\n",
    "from pyspark.ml.feature import MinMaxScaler, StandardScaler"
   ]
  },
  {
   "cell_type": "markdown",
   "metadata": {},
   "source": [
    "OneHotEncoding the categorical columns and adding ohe and index "
   ]
  },
  {
   "cell_type": "code",
   "execution_count": 79,
   "metadata": {},
   "outputs": [
    {
     "data": {
      "text/plain": [
       "['sex', 'smoker', 'region']"
      ]
     },
     "execution_count": 79,
     "metadata": {},
     "output_type": "execute_result"
    }
   ],
   "source": [
    "cat_cols=[c[0] for c in df.dtypes if c[1]==\"string\"]\n",
    "cat_cols"
   ]
  },
  {
   "cell_type": "code",
   "execution_count": 80,
   "metadata": {},
   "outputs": [
    {
     "data": {
      "text/plain": [
       "['sex_ohe', 'smoker_ohe', 'region_ohe']"
      ]
     },
     "execution_count": 80,
     "metadata": {},
     "output_type": "execute_result"
    }
   ],
   "source": [
    "ohe_cols=[c+\"_ohe\" for c in cat_cols]\n",
    "ohe_cols"
   ]
  },
  {
   "cell_type": "code",
   "execution_count": 81,
   "metadata": {},
   "outputs": [
    {
     "name": "stdout",
     "output_type": "stream",
     "text": [
      "['sex_index', 'smoker_index', 'region_index']\n"
     ]
    }
   ],
   "source": [
    "cat_cols_si= [c+\"_index\" for c in cat_cols]\n",
    "print (cat_cols_si)"
   ]
  },
  {
   "cell_type": "code",
   "execution_count": 82,
   "metadata": {},
   "outputs": [
    {
     "name": "stdout",
     "output_type": "stream",
     "text": [
      "['sex_ohe', 'smoker_ohe', 'region_ohe']\n"
     ]
    }
   ],
   "source": [
    "cat_cols_ohe= [c+\"_ohe\" for c in cat_cols]\n",
    "print (cat_cols_ohe)"
   ]
  },
  {
   "cell_type": "markdown",
   "metadata": {},
   "source": [
    "Label encoding the categorical columns"
   ]
  },
  {
   "cell_type": "code",
   "execution_count": 83,
   "metadata": {},
   "outputs": [],
   "source": [
    "labelencoder= StringIndexer(\n",
    "                        inputCols=cat_cols,\n",
    "                        outputCols=cat_cols_si  )"
   ]
  },
  {
   "cell_type": "code",
   "execution_count": 84,
   "metadata": {},
   "outputs": [
    {
     "name": "stdout",
     "output_type": "stream",
     "text": [
      "+---+------+------+--------+------+---------+-----------+---------+------------+------------+\n",
      "|age|   sex|   bmi|children|smoker|   region|    charges|sex_index|smoker_index|region_index|\n",
      "+---+------+------+--------+------+---------+-----------+---------+------------+------------+\n",
      "| 19|female|  27.9|       0|   yes|southwest|  16884.924|      1.0|         1.0|         2.0|\n",
      "| 18|  male| 33.77|       1|    no|southeast|  1725.5523|      0.0|         0.0|         0.0|\n",
      "| 28|  male|  33.0|       3|    no|southeast|   4449.462|      0.0|         0.0|         0.0|\n",
      "| 33|  male|22.705|       0|    no|northwest|21984.47061|      0.0|         0.0|         1.0|\n",
      "| 32|  male| 28.88|       0|    no|northwest|  3866.8552|      0.0|         0.0|         1.0|\n",
      "| 31|female| 25.74|       0|    no|southeast|  3756.6216|      1.0|         0.0|         0.0|\n",
      "| 46|female| 33.44|       1|    no|southeast|  8240.5896|      1.0|         0.0|         0.0|\n",
      "| 37|female| 27.74|       3|    no|northwest|  7281.5056|      1.0|         0.0|         1.0|\n",
      "| 37|  male| 29.83|       2|    no|northeast|  6406.4107|      0.0|         0.0|         3.0|\n",
      "| 60|female| 25.84|       0|    no|northwest|28923.13692|      1.0|         0.0|         1.0|\n",
      "| 25|  male| 26.22|       0|    no|northeast|  2721.3208|      0.0|         0.0|         3.0|\n",
      "| 62|female| 26.29|       0|   yes|southeast| 27808.7251|      1.0|         1.0|         0.0|\n",
      "| 23|  male|  34.4|       0|    no|southwest|   1826.843|      0.0|         0.0|         2.0|\n",
      "| 56|female| 39.82|       0|    no|southeast| 11090.7178|      1.0|         0.0|         0.0|\n",
      "| 27|  male| 42.13|       0|   yes|southeast| 39611.7577|      0.0|         1.0|         0.0|\n",
      "| 19|  male|  24.6|       1|    no|southwest|   1837.237|      0.0|         0.0|         2.0|\n",
      "| 52|female| 30.78|       1|    no|northeast| 10797.3362|      1.0|         0.0|         3.0|\n",
      "| 23|  male|23.845|       0|    no|northeast| 2395.17155|      0.0|         0.0|         3.0|\n",
      "| 56|  male|  40.3|       0|    no|southwest|  10602.385|      0.0|         0.0|         2.0|\n",
      "| 30|  male|  35.3|       0|   yes|southwest|  36837.467|      0.0|         1.0|         2.0|\n",
      "+---+------+------+--------+------+---------+-----------+---------+------------+------------+\n",
      "only showing top 20 rows\n",
      "\n"
     ]
    }
   ],
   "source": [
    "indexed = labelencoder.fit(df).transform(df) \n",
    "indexed.show()"
   ]
  },
  {
   "cell_type": "markdown",
   "metadata": {},
   "source": [
    "Dropping the string and the predicted variable"
   ]
  },
  {
   "cell_type": "code",
   "execution_count": 105,
   "metadata": {},
   "outputs": [],
   "source": [
    "features= indexed.drop('charges','sex', 'smoker', 'region')"
   ]
  },
  {
   "cell_type": "code",
   "execution_count": 106,
   "metadata": {},
   "outputs": [
    {
     "name": "stdout",
     "output_type": "stream",
     "text": [
      "+---+------+--------+---------+------------+------------+\n",
      "|age|   bmi|children|sex_index|smoker_index|region_index|\n",
      "+---+------+--------+---------+------------+------------+\n",
      "| 19|  27.9|       0|      1.0|         1.0|         2.0|\n",
      "| 18| 33.77|       1|      0.0|         0.0|         0.0|\n",
      "| 28|  33.0|       3|      0.0|         0.0|         0.0|\n",
      "| 33|22.705|       0|      0.0|         0.0|         1.0|\n",
      "| 32| 28.88|       0|      0.0|         0.0|         1.0|\n",
      "| 31| 25.74|       0|      1.0|         0.0|         0.0|\n",
      "| 46| 33.44|       1|      1.0|         0.0|         0.0|\n",
      "| 37| 27.74|       3|      1.0|         0.0|         1.0|\n",
      "| 37| 29.83|       2|      0.0|         0.0|         3.0|\n",
      "| 60| 25.84|       0|      1.0|         0.0|         1.0|\n",
      "| 25| 26.22|       0|      0.0|         0.0|         3.0|\n",
      "| 62| 26.29|       0|      1.0|         1.0|         0.0|\n",
      "| 23|  34.4|       0|      0.0|         0.0|         2.0|\n",
      "| 56| 39.82|       0|      1.0|         0.0|         0.0|\n",
      "| 27| 42.13|       0|      0.0|         1.0|         0.0|\n",
      "| 19|  24.6|       1|      0.0|         0.0|         2.0|\n",
      "| 52| 30.78|       1|      1.0|         0.0|         3.0|\n",
      "| 23|23.845|       0|      0.0|         0.0|         3.0|\n",
      "| 56|  40.3|       0|      0.0|         0.0|         2.0|\n",
      "| 30|  35.3|       0|      0.0|         1.0|         2.0|\n",
      "+---+------+--------+---------+------------+------------+\n",
      "only showing top 20 rows\n",
      "\n"
     ]
    }
   ],
   "source": [
    "features.show()"
   ]
  },
  {
   "cell_type": "code",
   "execution_count": 107,
   "metadata": {},
   "outputs": [
    {
     "data": {
      "text/plain": [
       "['age', 'bmi', 'children', 'sex_index', 'smoker_index', 'region_index']"
      ]
     },
     "execution_count": 107,
     "metadata": {},
     "output_type": "execute_result"
    }
   ],
   "source": [
    "features.columns"
   ]
  },
  {
   "cell_type": "markdown",
   "metadata": {},
   "source": [
    "Importing VectorAssembler for assembling all features together with the predictor variable (charges)"
   ]
  },
  {
   "cell_type": "code",
   "execution_count": 108,
   "metadata": {},
   "outputs": [],
   "source": [
    "from pyspark.ml.feature import VectorAssembler\n",
    "#let's assemble our features together using vectorAssembler\n",
    "assembler = VectorAssembler(\n",
    "    inputCols=features.columns,\n",
    "    outputCol=\"features\")"
   ]
  },
  {
   "cell_type": "code",
   "execution_count": 109,
   "metadata": {},
   "outputs": [],
   "source": [
    "output = assembler.transform(indexed).select('features','charges')"
   ]
  },
  {
   "cell_type": "code",
   "execution_count": 110,
   "metadata": {},
   "outputs": [],
   "source": [
    "train,test = output.randomSplit([0.75, 0.25])"
   ]
  },
  {
   "cell_type": "code",
   "execution_count": 113,
   "metadata": {},
   "outputs": [
    {
     "name": "stdout",
     "output_type": "stream",
     "text": [
      "+--------------------+-----------+\n",
      "|            features|    charges|\n",
      "+--------------------+-----------+\n",
      "|(6,[0,1],[18.0,30...|  1131.5066|\n",
      "|(6,[0,1],[18.0,33...|  1136.3994|\n",
      "|(6,[0,1],[18.0,34...|   1137.011|\n",
      "|(6,[0,1],[18.0,34...|  1137.4697|\n",
      "|(6,[0,1],[18.0,37...|  1141.4451|\n",
      "|(6,[0,1],[18.0,43...|  1149.3959|\n",
      "|(6,[0,1],[18.0,53...|  1163.4627|\n",
      "|(6,[0,1],[21.0,31...|16586.49771|\n",
      "|(6,[0,1],[21.0,35...|  1532.4697|\n",
      "|(6,[0,1],[21.0,36...|  1534.3045|\n",
      "|(6,[0,1],[22.0,33...|  1674.6323|\n",
      "|(6,[0,1],[23.0,26...|  1815.8759|\n",
      "|(6,[0,1],[23.0,41...|  1837.2819|\n",
      "|(6,[0,1],[25.0,25...|  2137.6536|\n",
      "|(6,[0,1],[27.0,23...|   2483.736|\n",
      "|(6,[0,1],[27.0,33...|  2498.4144|\n",
      "|(6,[0,1],[28.0,38...|  2689.4954|\n",
      "|(6,[0,1],[29.0,27...|  2867.1196|\n",
      "|(6,[0,1],[33.0,30...|  3704.3545|\n",
      "|(6,[0,1],[34.0,34...|  3935.1799|\n",
      "+--------------------+-----------+\n",
      "only showing top 20 rows\n",
      "\n"
     ]
    }
   ],
   "source": [
    "train.show()"
   ]
  },
  {
   "cell_type": "code",
   "execution_count": 123,
   "metadata": {},
   "outputs": [
    {
     "data": {
      "text/plain": [
       "993"
      ]
     },
     "execution_count": 123,
     "metadata": {},
     "output_type": "execute_result"
    }
   ],
   "source": [
    "train.count()"
   ]
  },
  {
   "cell_type": "code",
   "execution_count": 112,
   "metadata": {},
   "outputs": [
    {
     "data": {
      "text/plain": [
       "345"
      ]
     },
     "execution_count": 112,
     "metadata": {},
     "output_type": "execute_result"
    }
   ],
   "source": [
    "test.count()"
   ]
  },
  {
   "cell_type": "markdown",
   "metadata": {},
   "source": [
    "Linear regression algorithm and calculating the RMSE (Root Mean Sqaure error) value"
   ]
  },
  {
   "cell_type": "code",
   "execution_count": 114,
   "metadata": {},
   "outputs": [],
   "source": [
    "from pyspark.ml.regression import LinearRegression\n",
    "lin_reg = LinearRegression(featuresCol = 'features', labelCol='charges')\n",
    "linear_model = lin_reg.fit(train)"
   ]
  },
  {
   "cell_type": "markdown",
   "metadata": {},
   "source": [
    "RMSE and R2 value"
   ]
  },
  {
   "cell_type": "code",
   "execution_count": 115,
   "metadata": {},
   "outputs": [
    {
     "name": "stdout",
     "output_type": "stream",
     "text": [
      "RMSE: 6065.240929\n",
      "\n",
      "r2: 0.744965\n"
     ]
    }
   ],
   "source": [
    "trainSummary = linear_model.summary\n",
    "print(\"RMSE: %f\" % trainSummary.rootMeanSquaredError)\n",
    "print(\"\\nr2: %f\" % trainSummary.r2)"
   ]
  },
  {
   "cell_type": "code",
   "execution_count": 116,
   "metadata": {},
   "outputs": [
    {
     "name": "stdout",
     "output_type": "stream",
     "text": [
      "Coefficients: [251.44020612518474,337.8438537165417,455.2790205383391,223.39219302834533,24085.124725299695,420.9777323870754]\n",
      "\n",
      "Intercept: -12961.09617446246\n"
     ]
    }
   ],
   "source": [
    "print(\"Coefficients: \" + str(linear_model.coefficients))\n",
    "print(\"\\nIntercept: \" + str(linear_model.intercept))"
   ]
  },
  {
   "cell_type": "code",
   "execution_count": 120,
   "metadata": {},
   "outputs": [
    {
     "name": "stdout",
     "output_type": "stream",
     "text": [
      "R Squared (R2) on test data = 0.762549\n"
     ]
    }
   ],
   "source": [
    "from pyspark.ml.evaluation import RegressionEvaluator\n",
    "pred_evaluator = RegressionEvaluator(predictionCol=\"prediction\", \\\n",
    "                 labelCol=\"charges\",metricName=\"r2\")\n",
    "print(\"R Squared (R2) on test data = %g\" % pred_evaluator.evaluate(predictions))"
   ]
  },
  {
   "cell_type": "code",
   "execution_count": 121,
   "metadata": {},
   "outputs": [
    {
     "data": {
      "text/plain": [
       "0.7436223753377131"
      ]
     },
     "execution_count": 121,
     "metadata": {},
     "output_type": "execute_result"
    }
   ],
   "source": [
    "def adj_r2(x):\n",
    "    r2 = trainSummary.r2\n",
    "    n = df.count()\n",
    "    p = len(df.columns)\n",
    "    adjusted_r2 = 1-(1-r2)*(n-1)/(n-p-1)\n",
    "    return adjusted_r2\n",
    "adj_r2(train)"
   ]
  },
  {
   "cell_type": "code",
   "execution_count": 122,
   "metadata": {},
   "outputs": [
    {
     "data": {
      "text/plain": [
       "0.7436223753377131"
      ]
     },
     "execution_count": 122,
     "metadata": {},
     "output_type": "execute_result"
    }
   ],
   "source": [
    "adj_r2(test)"
   ]
  },
  {
   "cell_type": "code",
   "execution_count": null,
   "metadata": {},
   "outputs": [],
   "source": []
  }
 ],
 "metadata": {
  "kernelspec": {
   "display_name": "Python 3",
   "language": "python",
   "name": "python3"
  },
  "language_info": {
   "codemirror_mode": {
    "name": "ipython",
    "version": 3
   },
   "file_extension": ".py",
   "mimetype": "text/x-python",
   "name": "python",
   "nbconvert_exporter": "python",
   "pygments_lexer": "ipython3",
   "version": "3.7.3"
  }
 },
 "nbformat": 4,
 "nbformat_minor": 2
}
